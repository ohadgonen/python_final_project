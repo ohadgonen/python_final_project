{
 "cells": [
  {
   "cell_type": "code",
   "execution_count": 1,
   "metadata": {},
   "outputs": [],
   "source": [
    "import numpy as np\n",
    "import pandas as pd\n",
    "import scipy as sp\n",
    "import matplotlib.pyplot as plt\n",
    "import seaborn as sns\n",
    "import warnings\n",
    "import mne \n",
    "warnings.simplefilter(action='ignore', category=FutureWarning)\n",
    "\n",
    "eeg_file = '/Users/ohadgonen/Desktop/Neuroscience/Year 2/1st semester/Advenced programming in Python/מטלות בית/python_final_project/src/EEG.machinelearing_data_BRMH.csv'  \n",
    "df = pd.read_csv(eeg_file)"
   ]
  },
  {
   "cell_type": "markdown",
   "metadata": {},
   "source": [
    "DATA CLEANING AND INITIAL EXPLORATION"
   ]
  },
  {
   "cell_type": "code",
   "execution_count": 2,
   "metadata": {},
   "outputs": [
    {
     "name": "stdout",
     "output_type": "stream",
     "text": [
      "\n",
      " Dataset Overview (Categorical Columns Only)\n",
      "--------------------------------------------------\n",
      "Categorical Data shape: (945, 8)\n",
      "\n",
      "Column Names and Data Types:\n",
      "no.                    int64\n",
      "sex                   object\n",
      "age                  float64\n",
      "eeg.date              object\n",
      "education            float64\n",
      "IQ                   float64\n",
      "main.disorder         object\n",
      "specific.disorder     object\n",
      "dtype: object\n",
      "\n",
      "Missing Values:\n",
      "no.                   0\n",
      "sex                   0\n",
      "age                   0\n",
      "eeg.date              0\n",
      "education            15\n",
      "IQ                   13\n",
      "main.disorder         0\n",
      "specific.disorder     0\n",
      "dtype: int64\n",
      "\n",
      "Descriptive Statistics:\n",
      "               no.  sex         age   eeg.date   education          IQ  \\\n",
      "count   945.000000  945  945.000000        945  930.000000  932.000000   \n",
      "unique         NaN    2         NaN        722         NaN         NaN   \n",
      "top            NaN    M         NaN  2018.7.17         NaN         NaN   \n",
      "freq           NaN  601         NaN          5         NaN         NaN   \n",
      "mean    473.000000  NaN   30.594804        NaN   13.438710  101.580472   \n",
      "std     272.942302  NaN   11.781592        NaN    2.550461   17.022414   \n",
      "min       1.000000  NaN   18.000000        NaN    0.000000   49.000000   \n",
      "25%     237.000000  NaN   21.730000        NaN   12.000000   91.000000   \n",
      "50%     473.000000  NaN   26.150000        NaN   13.000000  102.000000   \n",
      "75%     709.000000  NaN   35.450000        NaN   16.000000  114.000000   \n",
      "max     945.000000  NaN   71.880000        NaN   20.000000  145.000000   \n",
      "\n",
      "        main.disorder    specific.disorder  \n",
      "count             945                  945  \n",
      "unique              7                   12  \n",
      "top     Mood disorder  Depressive disorder  \n",
      "freq              266                  199  \n",
      "mean              NaN                  NaN  \n",
      "std               NaN                  NaN  \n",
      "min               NaN                  NaN  \n",
      "25%               NaN                  NaN  \n",
      "50%               NaN                  NaN  \n",
      "75%               NaN                  NaN  \n",
      "max               NaN                  NaN  \n",
      "\n",
      "First 5 Rows of the Filtered DataFrame:\n",
      "   no. sex   age    eeg.date  education     IQ       main.disorder  \\\n",
      "0    1   M  57.0   2012.8.30        NaN    NaN  Addictive disorder   \n",
      "1    2   M  37.0    2012.9.6        6.0  120.0  Addictive disorder   \n",
      "2    3   M  32.0   2012.9.10       16.0  113.0  Addictive disorder   \n",
      "3    4   M  35.0   2012.10.8       18.0  126.0  Addictive disorder   \n",
      "4    5   M  36.0  2012.10.18       16.0  112.0  Addictive disorder   \n",
      "\n",
      "      specific.disorder  \n",
      "0  Alcohol use disorder  \n",
      "1  Alcohol use disorder  \n",
      "2  Alcohol use disorder  \n",
      "3  Alcohol use disorder  \n",
      "4  Alcohol use disorder  \n"
     ]
    }
   ],
   "source": [
    "# What kind of information are we dealing with? let's get some intuition about the participants.\n",
    "\n",
    "from src.data_visualization import visualize_non_eeg_data as visualize_non_eeg_data\n",
    "visualize_non_eeg_data(df)"
   ]
  },
  {
   "cell_type": "code",
   "execution_count": 3,
   "metadata": {},
   "outputs": [],
   "source": [
    "# We can see there are some missing values in the education and the IQ columns.\n",
    "# Since there are 15 and 13 NaNs, numbers which are negligible to the 945 rows, we will fill each of the missing values with the average of the column.\n",
    "from src.data_cleaning import fill_NaNs as fill_NaNs\n",
    "cleaned_df = fill_NaNs(df,'education')\n",
    "cleaned_df = fill_NaNs(df, 'IQ')"
   ]
  },
  {
   "cell_type": "code",
   "execution_count": 4,
   "metadata": {},
   "outputs": [
    {
     "name": "stdout",
     "output_type": "stream",
     "text": [
      "\n",
      " Dataset Overview (EEG Columns Only)\n",
      "--------------------------------------------------\n",
      "EEG Data shape: (945, 1141)\n",
      "\n",
      "First 5 rows (electrode columns only):\n",
      "   AB.A.delta.a.FP1  AB.A.delta.b.FP2  AB.A.delta.c.F7  AB.A.delta.d.F3  \\\n",
      "0         35.998557         21.717375        21.518280        26.825048   \n",
      "1         13.425118         11.002916        11.942516        15.272216   \n",
      "2         29.941780         27.544684        17.150159        23.608960   \n",
      "3         21.496226         21.846832        17.364316        13.833701   \n",
      "4         37.775667         33.607679        21.865556        21.771413   \n",
      "\n",
      "   AB.A.delta.e.Fz  AB.A.delta.f.F4  AB.A.delta.g.F8  AB.A.delta.h.T3  \\\n",
      "0        26.611516        25.732649        16.563408        29.891368   \n",
      "1        14.151570        12.456034         8.436832         9.975238   \n",
      "2        27.087811        13.541237        16.523963        12.775574   \n",
      "3        14.100954        13.100939        14.613650         8.063191   \n",
      "4        22.854536        21.456377        15.969042         9.434306   \n",
      "\n",
      "   AB.A.delta.i.C3  AB.A.delta.j.Cz  ...  COH.F.gamma.o.Pz.p.P4  \\\n",
      "0        22.402246        22.582176  ...              55.989192   \n",
      "1        14.834740        10.950564  ...              45.595619   \n",
      "2        21.686306        18.367666  ...              99.475453   \n",
      "3        11.015078        11.639560  ...              59.986561   \n",
      "4        15.244523        17.041979  ...              61.462720   \n",
      "\n",
      "   COH.F.gamma.o.Pz.q.T6  COH.F.gamma.o.Pz.r.O1  COH.F.gamma.o.Pz.s.O2  \\\n",
      "0              16.739679              23.452271              45.678820   \n",
      "1              17.510824              26.777368              28.201062   \n",
      "2              70.654171              39.131547              69.920996   \n",
      "3              63.822201              36.478254              47.117006   \n",
      "4              59.166097              51.465531              58.635415   \n",
      "\n",
      "   COH.F.gamma.p.P4.q.T6  COH.F.gamma.p.P4.r.O1  COH.F.gamma.p.P4.s.O2  \\\n",
      "0              30.167520              16.918761              48.850427   \n",
      "1              57.108861              32.375401              60.351749   \n",
      "2              71.063644              38.534505              69.908764   \n",
      "3              84.658376              24.724096              50.299349   \n",
      "4              80.685608              62.138436              75.888749   \n",
      "\n",
      "   COH.F.gamma.q.T6.r.O1  COH.F.gamma.q.T6.s.O2  COH.F.gamma.r.O1.s.O2  \n",
      "0               9.422630              34.507082              28.613029  \n",
      "1              13.900981              57.831848              43.463261  \n",
      "2              27.180532              64.803155              31.485799  \n",
      "3              35.319695              79.822944              41.141873  \n",
      "4              61.003944              87.455509              70.531662  \n",
      "\n",
      "[5 rows x 1141 columns]\n",
      "\n",
      "Column Names and Data Types:\n",
      "AB.A.delta.a.FP1         float64\n",
      "AB.A.delta.b.FP2         float64\n",
      "AB.A.delta.c.F7          float64\n",
      "AB.A.delta.d.F3          float64\n",
      "AB.A.delta.e.Fz          float64\n",
      "                          ...   \n",
      "COH.F.gamma.p.P4.r.O1    float64\n",
      "COH.F.gamma.p.P4.s.O2    float64\n",
      "COH.F.gamma.q.T6.r.O1    float64\n",
      "COH.F.gamma.q.T6.s.O2    float64\n",
      "COH.F.gamma.r.O1.s.O2    float64\n",
      "Length: 1141, dtype: object\n",
      "\n",
      "Missing Values in Each Electrode Column:\n",
      "AB.A.delta.a.FP1         0\n",
      "AB.A.delta.b.FP2         0\n",
      "AB.A.delta.c.F7          0\n",
      "AB.A.delta.d.F3          0\n",
      "AB.A.delta.e.Fz          0\n",
      "                        ..\n",
      "COH.F.gamma.p.P4.r.O1    0\n",
      "COH.F.gamma.p.P4.s.O2    0\n",
      "COH.F.gamma.q.T6.r.O1    0\n",
      "COH.F.gamma.q.T6.s.O2    0\n",
      "COH.F.gamma.r.O1.s.O2    0\n",
      "Length: 1141, dtype: int64\n",
      "\n",
      "Descriptive Statistics (electrode columns only):\n",
      "       AB.A.delta.a.FP1  AB.A.delta.b.FP2  AB.A.delta.c.F7  AB.A.delta.d.F3  \\\n",
      "count        945.000000        945.000000       945.000000       945.000000   \n",
      "mean          20.182936         21.177584        17.749553        18.901698   \n",
      "std           11.282022         12.230662        10.003598         9.079482   \n",
      "min            3.272260          3.244199         3.050507         3.412618   \n",
      "25%           12.784872         13.019269        11.134327        12.460586   \n",
      "50%           17.065286         17.838251        15.541469        16.733004   \n",
      "75%           24.492760         25.654394        21.623961        23.347900   \n",
      "max           92.826192        101.515687        91.373456        82.544167   \n",
      "\n",
      "       AB.A.delta.e.Fz  AB.A.delta.f.F4  AB.A.delta.g.F8  AB.A.delta.h.T3  \\\n",
      "count       945.000000       945.000000       945.000000       945.000000   \n",
      "mean         20.447079        19.490329        17.042218        11.790176   \n",
      "std           9.742912         9.252500         9.272096         7.347929   \n",
      "min           5.066593         4.048931         2.552213         2.128977   \n",
      "25%          13.548645        12.637717        10.381770         7.042545   \n",
      "50%          18.065276        17.432568        15.050377        10.044354   \n",
      "75%          25.573096        23.956748        20.810308        14.246874   \n",
      "max         101.566662        77.197502        69.071230        77.283412   \n",
      "\n",
      "       AB.A.delta.i.C3  AB.A.delta.j.Cz  ...  COH.F.gamma.o.Pz.p.P4  \\\n",
      "count       945.000000       945.000000  ...             945.000000   \n",
      "mean         16.405732        19.566879  ...              75.889633   \n",
      "std           8.246200         9.525142  ...              15.861641   \n",
      "min           2.213470         3.149313  ...              12.611954   \n",
      "25%          10.686639        13.130418  ...              68.014443   \n",
      "50%          14.525494        17.245633  ...              78.647712   \n",
      "75%          20.271380        23.792159  ...              87.398387   \n",
      "max          65.932521        88.474026  ...              99.678649   \n",
      "\n",
      "       COH.F.gamma.o.Pz.q.T6  COH.F.gamma.o.Pz.r.O1  COH.F.gamma.o.Pz.s.O2  \\\n",
      "count             945.000000             945.000000             945.000000   \n",
      "mean               55.049113              56.959796              60.739169   \n",
      "std                19.541956              18.326785              18.052887   \n",
      "min                 0.519048               6.926792               0.708008   \n",
      "25%                41.607506              43.682444              48.374883   \n",
      "50%                55.158858              56.657348              61.257972   \n",
      "75%                69.740640              70.649245              73.979100   \n",
      "max               100.000000              99.307895             100.000000   \n",
      "\n",
      "       COH.F.gamma.p.P4.q.T6  COH.F.gamma.p.P4.r.O1  COH.F.gamma.p.P4.s.O2  \\\n",
      "count             945.000000             945.000000             945.000000   \n",
      "mean               69.829254              47.862489              66.832798   \n",
      "std                17.725321              19.685722              17.028701   \n",
      "min                 2.421748               0.036664               1.032207   \n",
      "25%                58.937785              32.581046              55.872070   \n",
      "50%                72.298636              45.719426              68.238375   \n",
      "75%                83.066877              62.081839              79.192418   \n",
      "max                99.581629              98.720067              99.650154   \n",
      "\n",
      "       COH.F.gamma.q.T6.r.O1  COH.F.gamma.q.T6.s.O2  COH.F.gamma.r.O1.s.O2  \n",
      "count             945.000000             945.000000             945.000000  \n",
      "mean               39.301406              66.153213              57.056207  \n",
      "std                20.790933              18.088548              19.600107  \n",
      "min                 1.228502               0.363268               3.988805  \n",
      "25%                22.049743              54.710605              43.955229  \n",
      "50%                36.549938              67.988937              57.515871  \n",
      "75%                54.169209              79.527764              71.626382  \n",
      "max                98.413320             100.000000              99.287092  \n",
      "\n",
      "[8 rows x 1141 columns]\n"
     ]
    }
   ],
   "source": [
    "# Now let's look at the eeg part of the dataframe.\n",
    "from src.data_visualization import visualize_eeg_data as visualize_eeg_data\n",
    "visualize_eeg_data(df)"
   ]
  },
  {
   "cell_type": "code",
   "execution_count": 5,
   "metadata": {},
   "outputs": [
    {
     "name": "stdout",
     "output_type": "stream",
     "text": [
      "Missing values in the following electrode columns:\n",
      "Unnamed: 122    945\n",
      "dtype: int64\n"
     ]
    }
   ],
   "source": [
    "# Check that the df includes no NaNs.\n",
    "from src.data_cleaning import check_missing_electrode_values as check_missing_electrode_values\n",
    "check_missing_electrode_values(df)\n",
    "\n",
    "# We've found that column 122 is full of NaNs, hence it doesn't contain any useful data. Let's delete the column.\n",
    "cleaned_df = cleaned_df.dropna(axis=1, how='all')\n"
   ]
  },
  {
   "cell_type": "code",
   "execution_count": 6,
   "metadata": {},
   "outputs": [
    {
     "name": "stdout",
     "output_type": "stream",
     "text": [
      "Missing values in the following electrode columns:\n",
      "Unnamed: 122    945\n",
      "dtype: int64\n"
     ]
    }
   ],
   "source": [
    "# Run check_missing_electrode_values to insure there are no missing values in the dataframe.\n",
    "check_missing_electrode_values(df)"
   ]
  },
  {
   "cell_type": "code",
   "execution_count": 7,
   "metadata": {},
   "outputs": [],
   "source": [
    "# Drop all columns that start with 'COH' since they are not relevant to our analysis.\n",
    "cleaned_df = cleaned_df.loc[:, ~cleaned_df.columns.str.startswith('COH')]"
   ]
  },
  {
   "cell_type": "code",
   "execution_count": 8,
   "metadata": {},
   "outputs": [
    {
     "name": "stdout",
     "output_type": "stream",
     "text": [
      "\n",
      " No rare categories detected in categorical columns.\n"
     ]
    }
   ],
   "source": [
    "# Next, we'll remove any duplicate rows.\n",
    "cleaned_df = cleaned_df.drop_duplicates()\n",
    "\n",
    "# Standarize all of the categorical columns in df (by converting all text to lowercase and stripping any leading/trailing spaces).\n",
    "from src.data_cleaning import standardize_categorical_columns as standardize_categorical_columns\n",
    "cleaned_df = standardize_categorical_columns(cleaned_df)\n",
    "\n",
    "# Check for outliers in the categorical columns. \n",
    "from src.data_cleaning import check_for_categorical_outliers as check_for_categorical_outliers\n",
    "check_for_categorical_outliers(cleaned_df)"
   ]
  },
  {
   "cell_type": "code",
   "execution_count": null,
   "metadata": {},
   "outputs": [
    {
     "name": "stdout",
     "output_type": "stream",
     "text": [
      "   no. sex   age    eeg.date  education          IQ       main.disorder  \\\n",
      "0    1   m  57.0   2012.8.30   13.43871  101.580472  addictive disorder   \n",
      "1    2   m  37.0    2012.9.6    6.00000  120.000000  addictive disorder   \n",
      "2    3   m  32.0   2012.9.10   16.00000  113.000000  addictive disorder   \n",
      "3    4   m  35.0   2012.10.8   18.00000  126.000000  addictive disorder   \n",
      "4    5   m  36.0  2012.10.18   16.00000  112.000000  addictive disorder   \n",
      "\n",
      "      specific.disorder  AB.A.delta.a.FP1  AB.A.delta.b.FP2  ...  \\\n",
      "0  alcohol use disorder         35.998557         21.717375  ...   \n",
      "1  alcohol use disorder         13.425118         11.002916  ...   \n",
      "2  alcohol use disorder         29.941780         27.544684  ...   \n",
      "3  alcohol use disorder         21.496226         21.846832  ...   \n",
      "4  alcohol use disorder         37.775667         33.607679  ...   \n",
      "\n",
      "   AB.F.gamma.j.Cz  AB.F.gamma.k.C4  AB.F.gamma.l.T4  AB.F.gamma.m.T5  \\\n",
      "0         1.993727         1.765493         1.464281         1.501948   \n",
      "1         0.903383         0.931967         0.437117         0.930843   \n",
      "2         1.096713         1.691152         1.505663         1.133891   \n",
      "3         1.115040         1.122776         2.128138         1.648217   \n",
      "4         1.193191         2.320845         3.562820         1.441662   \n",
      "\n",
      "   AB.F.gamma.n.P3  AB.F.gamma.o.Pz  AB.F.gamma.p.P4  AB.F.gamma.q.T6  \\\n",
      "0         1.707307         1.553448         1.552658         1.388662   \n",
      "1         1.234874         1.373268         1.411808         1.140695   \n",
      "2         1.661768         1.403429         1.349457         1.270525   \n",
      "3         1.147666         1.049152         1.131654         1.415856   \n",
      "4         1.018804         1.274009         2.350806         2.307730   \n",
      "\n",
      "   AB.F.gamma.r.O1  AB.F.gamma.s.O2  \n",
      "0         1.592717         1.806598  \n",
      "1         1.118041         3.162143  \n",
      "2         1.408471         1.454618  \n",
      "3         1.391048         1.527403  \n",
      "4         2.129431         3.766860  \n",
      "\n",
      "[5 rows x 122 columns]\n"
     ]
    }
   ],
   "source": [
    "# Reformat the electrode columns from prefix.band.type.channel to band.channel.\n",
    "from src.data_cleaning import reformat_electrode_columns as reformat_electrode_columns\n",
    "cleaned_df = reformat_electrode_columns(cleaned_df)\n",
    "print(cleaned_df.head())"
   ]
  },
  {
   "cell_type": "code",
   "execution_count": 10,
   "metadata": {},
   "outputs": [],
   "source": [
    "# There aren't any categorical outliers in the categorical columns.\n",
    "# We will leave all of the values in the eeg data columns because we don't wish to modify it. \n",
    "\n",
    "# Update the original dataframe, after the cleaning.\n",
    "df = cleaned_df\n",
    "\n",
    "# Save the cleaned data to a new csv file. \n",
    "df.to_csv('/Users/ohadgonen/Desktop/Neuroscience/Year 2/1st semester/Advenced programming in Python/מטלות בית/python_final_project/cleaned_eeg_data.csv', index=False)\n"
   ]
  },
  {
   "cell_type": "markdown",
   "metadata": {},
   "source": [
    "DATA ANALYSIS"
   ]
  },
  {
   "cell_type": "code",
   "execution_count": 11,
   "metadata": {},
   "outputs": [
    {
     "data": {
      "image/png": "[encoded data removed]",
      "text/plain": [
       "<Figure size 1000x600 with 1 Axes>"
      ]
     },
     "metadata": {},
     "output_type": "display_data"
    }
   ],
   "source": [
    "# Our main question is: what are the characteristic EEG activity of different main psychiatric disorders?\n",
    "# Let's start by checking the distribution of the main psychiatric disorder column.\n",
    "from src.data_visualization import visualize_main_psychiatric_disorders as visualize_main_psychiatric_disorders\n",
    "visualize_main_psychiatric_disorders(df)"
   ]
  },
  {
   "cell_type": "code",
   "execution_count": 12,
   "metadata": {},
   "outputs": [
    {
     "data": {
      "text/plain": [
       "{'delta': {},\n",
       " 'theta': {},\n",
       " 'alpha': {},\n",
       " 'beta': {},\n",
       " 'gamma': {},\n",
       " 'highbeta': {}}"
      ]
     },
     "execution_count": 12,
     "metadata": {},
     "output_type": "execute_result"
    }
   ],
   "source": [
    "from src.data_analysis import calculate_band_averages as calculate_band_averages\n",
    "# Choose an example main disorder.\n",
    "main_disorder = \"schizophrenia\"\n",
    "# Create a dictionary of average electrode activity in each band for schizophrenia. \n",
    "band_averages = calculate_band_averages(main_disorder, df)\n",
    "# Display the result \n",
    "band_averages"
   ]
  },
  {
   "cell_type": "code",
   "execution_count": 13,
   "metadata": {},
   "outputs": [
    {
     "ename": "ValueError",
     "evalue": "zero-size array to reduction operation fmin which has no identity",
     "output_type": "error",
     "traceback": [
      "\u001b[0;31m---------------------------------------------------------------------------\u001b[0m",
      "\u001b[0;31mValueError\u001b[0m                                Traceback (most recent call last)",
      "Cell \u001b[0;32mIn[13], line 3\u001b[0m\n\u001b[1;32m      1\u001b[0m \u001b[38;5;28;01mfrom\u001b[39;00m \u001b[38;5;21;01msrc\u001b[39;00m\u001b[38;5;21;01m.\u001b[39;00m\u001b[38;5;21;01mdata_visualization\u001b[39;00m \u001b[38;5;28;01mimport\u001b[39;00m visualize_brain_activity \u001b[38;5;28;01mas\u001b[39;00m visualize_brain_activity\n\u001b[1;32m      2\u001b[0m \u001b[38;5;66;03m# Visualize the brain activity for the given band averages in addictive disorder.\u001b[39;00m\n\u001b[0;32m----> 3\u001b[0m \u001b[43mvisualize_brain_activity\u001b[49m\u001b[43m(\u001b[49m\u001b[43mband_averages\u001b[49m\u001b[43m,\u001b[49m\u001b[43m \u001b[49m\u001b[43mmain_disorder\u001b[49m\u001b[43m)\u001b[49m\n",
      "File \u001b[0;32m~/Desktop/Neuroscience/Year 2/1st semester/Advenced programming in Python/מטלות בית/python_final_project/src/data_visualization.py:133\u001b[0m, in \u001b[0;36mvisualize_brain_activity\u001b[0;34m(band_averages, main_disorder)\u001b[0m\n\u001b[1;32m    130\u001b[0m \u001b[38;5;28;01mfor\u001b[39;00m idx, band \u001b[38;5;129;01min\u001b[39;00m \u001b[38;5;28menumerate\u001b[39m(frequency_bands):\n\u001b[1;32m    131\u001b[0m     \u001b[38;5;66;03m# Prepare data for the current band\u001b[39;00m\n\u001b[1;32m    132\u001b[0m     data \u001b[38;5;241m=\u001b[39m np\u001b[38;5;241m.\u001b[39marray([band_averages[band]\u001b[38;5;241m.\u001b[39mget(elec, np\u001b[38;5;241m.\u001b[39mnan) \u001b[38;5;28;01mfor\u001b[39;00m elec \u001b[38;5;129;01min\u001b[39;00m electrodes \u001b[38;5;28;01mif\u001b[39;00m elec \u001b[38;5;129;01min\u001b[39;00m pos_2d])\n\u001b[0;32m--> 133\u001b[0m     vmin, vmax \u001b[38;5;241m=\u001b[39m \u001b[43mnp\u001b[49m\u001b[38;5;241;43m.\u001b[39;49m\u001b[43mnanmin\u001b[49m\u001b[43m(\u001b[49m\u001b[43mdata\u001b[49m\u001b[43m)\u001b[49m, np\u001b[38;5;241m.\u001b[39mnanmax(data)\n\u001b[1;32m    135\u001b[0m     \u001b[38;5;66;03m# Create the topomap with proper arguments\u001b[39;00m\n\u001b[1;32m    136\u001b[0m     im, _ \u001b[38;5;241m=\u001b[39m mne\u001b[38;5;241m.\u001b[39mviz\u001b[38;5;241m.\u001b[39mplot_topomap(\n\u001b[1;32m    137\u001b[0m         data,\n\u001b[1;32m    138\u001b[0m         pos_array,\n\u001b[0;32m   (...)\u001b[0m\n\u001b[1;32m    145\u001b[0m         outlines\u001b[38;5;241m=\u001b[39m\u001b[38;5;124m\"\u001b[39m\u001b[38;5;124mhead\u001b[39m\u001b[38;5;124m\"\u001b[39m  \u001b[38;5;66;03m# Adjust outline to ensure proper fit\u001b[39;00m\n\u001b[1;32m    146\u001b[0m     )\n",
      "File \u001b[0;32m~/Desktop/Neuroscience/Year 2/1st semester/Advenced programming in Python/מטלות בית/python_final_project/.venv/lib/python3.13/site-packages/numpy/lib/_nanfunctions_impl.py:357\u001b[0m, in \u001b[0;36mnanmin\u001b[0;34m(a, axis, out, keepdims, initial, where)\u001b[0m\n\u001b[1;32m    352\u001b[0m     kwargs[\u001b[38;5;124m'\u001b[39m\u001b[38;5;124mwhere\u001b[39m\u001b[38;5;124m'\u001b[39m] \u001b[38;5;241m=\u001b[39m where\n\u001b[1;32m    354\u001b[0m \u001b[38;5;28;01mif\u001b[39;00m \u001b[38;5;28mtype\u001b[39m(a) \u001b[38;5;129;01mis\u001b[39;00m np\u001b[38;5;241m.\u001b[39mndarray \u001b[38;5;129;01mand\u001b[39;00m a\u001b[38;5;241m.\u001b[39mdtype \u001b[38;5;241m!=\u001b[39m np\u001b[38;5;241m.\u001b[39mobject_:\n\u001b[1;32m    355\u001b[0m     \u001b[38;5;66;03m# Fast, but not safe for subclasses of ndarray, or object arrays,\u001b[39;00m\n\u001b[1;32m    356\u001b[0m     \u001b[38;5;66;03m# which do not implement isnan (gh-9009), or fmin correctly (gh-8975)\u001b[39;00m\n\u001b[0;32m--> 357\u001b[0m     res \u001b[38;5;241m=\u001b[39m \u001b[43mnp\u001b[49m\u001b[38;5;241;43m.\u001b[39;49m\u001b[43mfmin\u001b[49m\u001b[38;5;241;43m.\u001b[39;49m\u001b[43mreduce\u001b[49m\u001b[43m(\u001b[49m\u001b[43ma\u001b[49m\u001b[43m,\u001b[49m\u001b[43m \u001b[49m\u001b[43maxis\u001b[49m\u001b[38;5;241;43m=\u001b[39;49m\u001b[43maxis\u001b[49m\u001b[43m,\u001b[49m\u001b[43m \u001b[49m\u001b[43mout\u001b[49m\u001b[38;5;241;43m=\u001b[39;49m\u001b[43mout\u001b[49m\u001b[43m,\u001b[49m\u001b[43m \u001b[49m\u001b[38;5;241;43m*\u001b[39;49m\u001b[38;5;241;43m*\u001b[39;49m\u001b[43mkwargs\u001b[49m\u001b[43m)\u001b[49m\n\u001b[1;32m    358\u001b[0m     \u001b[38;5;28;01mif\u001b[39;00m np\u001b[38;5;241m.\u001b[39misnan(res)\u001b[38;5;241m.\u001b[39many():\n\u001b[1;32m    359\u001b[0m         warnings\u001b[38;5;241m.\u001b[39mwarn(\u001b[38;5;124m\"\u001b[39m\u001b[38;5;124mAll-NaN slice encountered\u001b[39m\u001b[38;5;124m\"\u001b[39m, \u001b[38;5;167;01mRuntimeWarning\u001b[39;00m,\n\u001b[1;32m    360\u001b[0m                       stacklevel\u001b[38;5;241m=\u001b[39m\u001b[38;5;241m2\u001b[39m)\n",
      "\u001b[0;31mValueError\u001b[0m: zero-size array to reduction operation fmin which has no identity"
     ]
    },
    {
     "data": {
      "image/png": "[encoded data removed]",
      "text/plain": [
       "<Figure size 1800x1000 with 6 Axes>"
      ]
     },
     "metadata": {},
     "output_type": "display_data"
    }
   ],
   "source": [
    "from src.data_visualization import visualize_brain_activity as visualize_brain_activity\n",
    "# Visualize the brain activity for the given band averages in addictive disorder.\n",
    "visualize_brain_activity(band_averages, main_disorder)"
   ]
  },
  {
   "cell_type": "code",
   "execution_count": null,
   "metadata": {},
   "outputs": [],
   "source": [
    "from src.data_analysis import find_significant_differences as find_significant_differences\n",
    "hc = \"healthy control\"\n",
    "main_disorder = \"schizophrenia\"\n",
    "# Create a dictionary of average electrode activity in each band for healthy control. \n",
    "healthy_band_averages = calculate_band_averages(hc, df)\n",
    "disorder_band_averages = calculate_band_averages(main_disorder, df)\n",
    "\n",
    "significant_differences = find_significant_differences(df, main_disorder, hc,  p_threshold=0.0001, activity_type= \"enhanced\")\n",
    "print(significant_differences)"
   ]
  },
  {
   "cell_type": "markdown",
   "metadata": {},
   "source": [
    "We see that schizophrenics have augmented activity in the occipital lobe, especially in the delta frequency band. \n",
    "\n",
    "It is interesting to note that the delta band is associated with low frequencies that promote sleep like states.\n",
    "\n",
    "It is known that one of the main symptoms of schizophrenia is visual hallucinations, as occurs while dreaming. \n",
    "\n",
    "This statistic analysis and information can confirm that schizophrenics have "
   ]
  },
  {
   "cell_type": "code",
   "execution_count": null,
   "metadata": {},
   "outputs": [],
   "source": [
    "# Visualize the EEG head maps for all disorders. \n",
    "\n",
    "from src.data_analysis import prepare_disorder_band_averages as prepare_disorder_band_averages\n",
    "# Prepare the required arguments for the `visualize_all_disorders` function from the given dataset.\n",
    "disorders = df['main.disorder'].unique().tolist()\n",
    "frequency_bands = [\"delta\", \"theta\", \"alpha\", \"beta\", \"gamma\", \"highbeta\"]\n",
    "electrodes = ['FP1', 'FP2', 'F7', 'F3', 'Fz', 'F4', 'F8', 'T7', 'C3', 'Cz', 'C4', 'T8', \n",
    "              'P7', 'P3', 'Pz', 'P4', 'P8', 'O1', 'O2']\n",
    "\n",
    "# Generate the required arguments\n",
    "disorder_band_averages, disorder_names = prepare_disorder_band_averages(df, disorders, frequency_bands, electrodes)"
   ]
  },
  {
   "cell_type": "code",
   "execution_count": null,
   "metadata": {},
   "outputs": [],
   "source": [
    "# Visualize the brain activity for all main disorders in the dataset.\n",
    "from src.data_visualization import visualize_all_disorders as visualize_all_disorders\n",
    "visualize_all_disorders(disorder_band_averages, disorder_names)\n",
    "\n",
    "# The strength of of the EEG activity is normalized compared to the minimun and maximun values of the band averages. "
   ]
  },
  {
   "cell_type": "code",
   "execution_count": null,
   "metadata": {},
   "outputs": [],
   "source": [
    "# Can we predict the main psychiatric disorder based on the EEG data?\n",
    "\n",
    "from src.data_preprocessing import split_data, train_model, evaluate_model, preprocess_data\n",
    "\n",
    "# Running the pipeline\n",
    "df_processed, label_encoders = preprocess_data(df)\n",
    "X_train, X_test, y_train, y_test = split_data(df_processed)\n",
    "rf_model = train_model(X_train, y_train)\n",
    "accuracy, classification_rep = evaluate_model(rf_model, X_test, y_test, label_encoders[\"main.disorder\"])\n",
    "\n",
    "# Convert classification report dictionary to a DataFrame\n",
    "classification_df = pd.DataFrame.from_dict(classification_rep).transpose()\n",
    "\n",
    "# Print accuracy and classification report as a formatted table\n",
    "print(f\"\\nModel Accuracy: {accuracy:.2f}\\n\")\n",
    "print(\"Classification Report:\")\n",
    "print(classification_df.to_string()) "
   ]
  }
 ],
 "metadata": {
  "kernelspec": {
   "display_name": ".venv",
   "language": "python",
   "name": "python3"
  },
  "language_info": {
   "codemirror_mode": {
    "name": "ipython",
    "version": 3
   },
   "file_extension": ".py",
   "mimetype": "text/x-python",
   "name": "python",
   "nbconvert_exporter": "python",
   "pygments_lexer": "ipython3",
   "version": "3.13.0"
  }
 },
 "nbformat": 4,
 "nbformat_minor": 2
}
